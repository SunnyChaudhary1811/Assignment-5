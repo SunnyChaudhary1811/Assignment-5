{
 "cells": [
  {
   "cell_type": "markdown",
   "id": "7962598e",
   "metadata": {},
   "source": [
    "# Assignment 6"
   ]
  },
  {
   "cell_type": "markdown",
   "id": "a500f52f",
   "metadata": {},
   "source": [
    "Q1: What are keywords in python? Using the keyword library, print all the python keywords."
   ]
  },
  {
   "cell_type": "markdown",
   "id": "156fa4c2",
   "metadata": {},
   "source": [
    "In the Python language, keywords are reserved words with a specific meaning and function. These keywords are already used by Python itself to define the grammar and structure of the language, hence they cannot be used as variable names or identifiers.\n"
   ]
  },
  {
   "cell_type": "code",
   "execution_count": 1,
   "id": "db0bcd42",
   "metadata": {},
   "outputs": [
    {
     "name": "stdout",
     "output_type": "stream",
     "text": [
      "['False', 'None', 'True', '__peg_parser__', 'and', 'as', 'assert', 'async', 'await', 'break', 'class', 'continue', 'def', 'del', 'elif', 'else', 'except', 'finally', 'for', 'from', 'global', 'if', 'import', 'in', 'is', 'lambda', 'nonlocal', 'not', 'or', 'pass', 'raise', 'return', 'try', 'while', 'with', 'yield']\n"
     ]
    }
   ],
   "source": [
    "import keyword\n",
    "\n",
    "all_keywords = keyword.kwlist\n",
    "print(all_keywords)\n"
   ]
  },
  {
   "cell_type": "markdown",
   "id": "4c1be9a4",
   "metadata": {},
   "source": [
    "Q2: What are the rules to create variables in python?"
   ]
  },
  {
   "cell_type": "markdown",
   "id": "b2459e0f",
   "metadata": {},
   "source": [
    "Variable names must start with a letter or underscore.\n",
    "They can contain letters, digits, and underscores.\n",
    "Variable names are case-sensitive.\n",
    "Avoid using reserved keywords.\n",
    "Use snake_case for variable names.\n",
    "Avoid starting variable names with digits.\n",
    "Choose readable and descriptive names.\n",
    "Avoid using built-in names."
   ]
  },
  {
   "cell_type": "markdown",
   "id": "91edbbd7",
   "metadata": {},
   "source": [
    "Q.3: What are the standards and conventions followed for the nomenclature of variables in\n",
    "python to improve code readability and maintainability?"
   ]
  },
  {
   "cell_type": "markdown",
   "id": "72ff6dd9",
   "metadata": {},
   "source": [
    "-Use snake_case for variable names.\n",
    "-Choose descriptive names that reflect the purpose.\n",
    "-Avoid single-letter names (except for simple loop counters).\n",
    "-Be consistent with naming conventions.\n",
    "-Avoid ambiguous or misleading names.\n",
    "-Use plural for collection variables.\n",
    "-Use uppercase for constants.\n",
    "-Avoid using reserved keywords."
   ]
  },
  {
   "cell_type": "markdown",
   "id": "80f07315",
   "metadata": {},
   "source": [
    "Q.4. What will happen if a keyword is used as a variable name?"
   ]
  },
  {
   "cell_type": "markdown",
   "id": "98e2baa3",
   "metadata": {},
   "source": [
    "If a keyword is used as a variable name in Python, it will result in a syntax error"
   ]
  },
  {
   "cell_type": "code",
   "execution_count": 3,
   "id": "36a81c67",
   "metadata": {},
   "outputs": [
    {
     "ename": "SyntaxError",
     "evalue": "invalid syntax (3594483855.py, line 1)",
     "output_type": "error",
     "traceback": [
      "\u001b[1;36m  File \u001b[1;32m\"C:\\Users\\sunny\\AppData\\Local\\Temp\\ipykernel_33524\\3594483855.py\"\u001b[1;36m, line \u001b[1;32m1\u001b[0m\n\u001b[1;33m    def = 10\u001b[0m\n\u001b[1;37m        ^\u001b[0m\n\u001b[1;31mSyntaxError\u001b[0m\u001b[1;31m:\u001b[0m invalid syntax\n"
     ]
    }
   ],
   "source": [
    "def = 10"
   ]
  },
  {
   "cell_type": "markdown",
   "id": "cd456ce5",
   "metadata": {},
   "source": [
    "Q.5: For what purpose def keyword is used?"
   ]
  },
  {
   "cell_type": "markdown",
   "id": "3e5d4413",
   "metadata": {},
   "source": [
    "The def keyword in Python is used to define a function."
   ]
  },
  {
   "cell_type": "markdown",
   "id": "03b6205a",
   "metadata": {},
   "source": [
    "Q.6. What is the operation of this special character ‘\\’?"
   ]
  },
  {
   "cell_type": "markdown",
   "id": "3956ebc9",
   "metadata": {},
   "source": [
    " \\': Single quote character.\n",
    " \n",
    "\\\": Double quote character.\n",
    "\n",
    "\\\\: Backslash character.\n",
    "\n",
    "\\n: Newline character.\n",
    "\n",
    "\\t: Tab character.\n",
    "\n",
    "\\r: Carriage return character.\n",
    "\n",
    "\\b: Backspace character."
   ]
  },
  {
   "cell_type": "markdown",
   "id": "9c7ab6ac",
   "metadata": {},
   "source": [
    "Q.7. Give an example of the following conditions:\n",
    "(i) Homogeneous list\n",
    "\n",
    "A homogeneous list in Python is a list where all elements have the same data type. Here's an example:\n",
    "numbers = [1, 2, 3, 4, 5]\n",
    "\n",
    "(ii) Heterogeneous set\n",
    "\n",
    "A heterogeneous set in Python is a set where the elements can have different data types. Here's an example:\n",
    "fruits = {\"apple\", \"banana\", 3.14, True}\n",
    "\n",
    "(iii) Homogeneous tuple\n",
    "\n",
    "A homogeneous tuple in Python is a tuple where all elements have the same data type. Here's an example:\n",
    "coordinates = (10, 20, 30, 40)\n"
   ]
  },
  {
   "cell_type": "markdown",
   "id": "dd17cd5d",
   "metadata": {},
   "source": [
    "Q.8. Explain the mutable and immutable data types with proper explanation & examples."
   ]
  },
  {
   "cell_type": "markdown",
   "id": "6234d6d2",
   "metadata": {},
   "source": [
    "Mutable Data Types:\n",
    "\n",
    "Mutable data types are those whose values can be modified after they are created. You can change the internal state of a mutable object without creating a new object. Examples of mutable data types in Python include:"
   ]
  },
  {
   "cell_type": "code",
   "execution_count": 5,
   "id": "5ff8e4f4",
   "metadata": {},
   "outputs": [
    {
     "name": "stdout",
     "output_type": "stream",
     "text": [
      "[10, 2, 3, 4]\n"
     ]
    }
   ],
   "source": [
    "#lists\n",
    "numbers = [1, 2, 3]\n",
    "numbers.append(4) \n",
    "numbers[0] = 10  \n",
    "print(numbers)\n"
   ]
  },
  {
   "cell_type": "code",
   "execution_count": 6,
   "id": "1e9921b3",
   "metadata": {},
   "outputs": [
    {
     "name": "stdout",
     "output_type": "stream",
     "text": [
      "{'orange', 'mango', 'banana'}\n"
     ]
    }
   ],
   "source": [
    "#sets\n",
    "fruits = {\"apple\", \"banana\", \"orange\"}\n",
    "fruits.add(\"mango\") \n",
    "fruits.remove(\"apple\") \n",
    "print(fruits)\n"
   ]
  },
  {
   "cell_type": "markdown",
   "id": "0f8f3334",
   "metadata": {},
   "source": [
    "Immutable Data Types:\n",
    "\n",
    "Immutable data types are those whose values cannot be modified once they are created. If you need to modify an immutable object, you have to create a new object with the desired changes. Examples of immutable data types in Python include:"
   ]
  },
  {
   "cell_type": "code",
   "execution_count": 7,
   "id": "1b9ad4aa",
   "metadata": {},
   "outputs": [
    {
     "name": "stdout",
     "output_type": "stream",
     "text": [
      "Hi\n"
     ]
    }
   ],
   "source": [
    "#strings\n",
    "message = \"Hello\"\n",
    "message = \"Hi\" \n",
    "print(message)\n"
   ]
  },
  {
   "cell_type": "code",
   "execution_count": 11,
   "id": "196fc7bd",
   "metadata": {},
   "outputs": [
    {
     "name": "stdout",
     "output_type": "stream",
     "text": [
      "(4, 5)\n"
     ]
    }
   ],
   "source": [
    "#tuples\n",
    "point = (2, 3)\n",
    "point = (4, 5) \n",
    "print(point)\n",
    "\n"
   ]
  },
  {
   "cell_type": "markdown",
   "id": "66a53c6a",
   "metadata": {},
   "source": [
    "Q.9. Write a code to create the given structure using only for loop."
   ]
  },
  {
   "cell_type": "code",
   "execution_count": 57,
   "id": "50958f15",
   "metadata": {},
   "outputs": [
    {
     "name": "stdout",
     "output_type": "stream",
     "text": [
      "    *\n",
      "   ***\n",
      "  *****\n",
      " *******\n",
      "*********\n"
     ]
    }
   ],
   "source": [
    "n = 5\n",
    "for i in range(1,n+1):\n",
    "    print(((n-i)*' ') +(((2*i)-1)*'*'))"
   ]
  },
  {
   "cell_type": "markdown",
   "id": "76e6e803",
   "metadata": {},
   "source": [
    "Q.10. Write a code to create the given structure using while loop."
   ]
  },
  {
   "cell_type": "code",
   "execution_count": 58,
   "id": "448d2fb7",
   "metadata": {},
   "outputs": [
    {
     "name": "stdout",
     "output_type": "stream",
     "text": [
      "|||||||||\n",
      " |||||||\n",
      "  |||||\n",
      "   |||\n",
      "    |\n"
     ]
    }
   ],
   "source": [
    "n = 5\n",
    "for i in range(n,0,-1):\n",
    "    print(((n-i)*' ') +(((2*i)-1)*'|'))"
   ]
  }
 ],
 "metadata": {
  "kernelspec": {
   "display_name": "Python 3 (ipykernel)",
   "language": "python",
   "name": "python3"
  },
  "language_info": {
   "codemirror_mode": {
    "name": "ipython",
    "version": 3
   },
   "file_extension": ".py",
   "mimetype": "text/x-python",
   "name": "python",
   "nbconvert_exporter": "python",
   "pygments_lexer": "ipython3",
   "version": "3.9.13"
  }
 },
 "nbformat": 4,
 "nbformat_minor": 5
}
