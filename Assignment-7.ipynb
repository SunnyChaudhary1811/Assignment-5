{
 "cells": [
  {
   "cell_type": "markdown",
   "id": "837838fa",
   "metadata": {},
   "source": [
    "Q.1. Create two int type variables, apply addition, subtraction, division and multiplications\n",
    "and store the results in variables. Then print the data in the following format by calling the\n",
    "variables:"
   ]
  },
  {
   "cell_type": "code",
   "execution_count": 4,
   "id": "3b10879f",
   "metadata": {},
   "outputs": [
    {
     "name": "stdout",
     "output_type": "stream",
     "text": [
      "First variable is 10 & second variable is  5\n",
      "Addition: 10 + 5 = 15\n",
      "Subtraction: 10 - 5 = 5\n",
      "Multiplication: 10 * 5 = 50\n",
      "Division: 10 / 5 = 2.0\n"
     ]
    }
   ],
   "source": [
    "a = 10\n",
    "b = 5\n",
    "c = a+b\n",
    "d = a-b\n",
    "e = a*b\n",
    "f = a/b\n",
    "print('First variable is', a, '& second variable is ', b)\n",
    "print(\"Addition:\", a, '+', b, '=', c)\n",
    "print('Subtraction:', a, '-', b, '=', d)\n",
    "print('Multiplication:', a, '*', b, '=', e)\n",
    "print('Division:', a, '/', b, '=', f)"
   ]
  },
  {
   "cell_type": "markdown",
   "id": "f33b46e2",
   "metadata": {},
   "source": [
    "Q.2. What is the difference between the following operators:"
   ]
  },
  {
   "cell_type": "markdown",
   "id": "62a45ada",
   "metadata": {},
   "source": [
    "(i) '/' and '//':\n",
    "\n",
    "The '/' operator performs floating-point division. It calculates the quotient as a floating-point number, even if both operands are integers.\n",
    "\n",
    "The '//' operator performs integer (floor) division. It calculates the quotient as an integer by discarding any fractional part of the result."
   ]
  },
  {
   "cell_type": "markdown",
   "id": "593fae32",
   "metadata": {},
   "source": [
    "(ii) '**' and '^':\n",
    "\n",
    "The '**' operator is the exponentiation operator. It raises the left operand to the power of the right operand and returns the result as a number.\n",
    "\n",
    "The '^' operator is the bitwise XOR operator. It performs a bitwise exclusive OR operation on the binary representations of the operands and returns the result as an integer."
   ]
  },
  {
   "cell_type": "markdown",
   "id": "9c244f94",
   "metadata": {},
   "source": [
    "Q.3. List the logical operators."
   ]
  },
  {
   "cell_type": "markdown",
   "id": "7e95e90d",
   "metadata": {},
   "source": [
    "and =  The 'and' operator returns True if both operands are True, and False otherwise. It performs a logical AND operation.\n",
    "\n",
    "or =  The 'or' operator returns True if at least one of the operands is True, and False otherwise. It performs a logical OR operation.\n",
    "\n",
    "not =  The 'not' operator returns the negation of the operand. It reverses the logical value of the operand."
   ]
  },
  {
   "cell_type": "markdown",
   "id": "ef53568a",
   "metadata": {},
   "source": [
    "Q.4. Explain right shift operator and left shift operator with examples."
   ]
  },
  {
   "cell_type": "markdown",
   "id": "5c5482c0",
   "metadata": {},
   "source": [
    "Right Shift (>>):\n",
    "The right shift operator (>>) shifts the bits of the left operand to the right by the number of positions specified by the right operand. It effectively divides the left operand by 2 to the power of the right operand, discarding the least significant bits."
   ]
  },
  {
   "cell_type": "code",
   "execution_count": 5,
   "id": "d897b142",
   "metadata": {},
   "outputs": [
    {
     "name": "stdout",
     "output_type": "stream",
     "text": [
      "4\n"
     ]
    }
   ],
   "source": [
    "x = 16  \n",
    "result = x >> 2 \n",
    "print(result)  \n"
   ]
  },
  {
   "cell_type": "markdown",
   "id": "62a0106e",
   "metadata": {},
   "source": [
    "Left Shift (<<):\n",
    "The left shift operator (<<) shifts the bits of the left operand to the left by the number of positions specified by the right operand. It effectively multiplies the left operand by 2 to the power of the right operand."
   ]
  },
  {
   "cell_type": "code",
   "execution_count": 7,
   "id": "61670f13",
   "metadata": {},
   "outputs": [
    {
     "name": "stdout",
     "output_type": "stream",
     "text": [
      "12\n"
     ]
    }
   ],
   "source": [
    "x = 3 \n",
    "result = x << 2 \n",
    "print(result)\n"
   ]
  },
  {
   "cell_type": "markdown",
   "id": "34c8570a",
   "metadata": {},
   "source": [
    "Q.5. Create a list containing int type data of length 15. Then write a code to check if 10 is\n",
    "present in the list or not."
   ]
  },
  {
   "cell_type": "code",
   "execution_count": 16,
   "id": "532ed58e",
   "metadata": {},
   "outputs": [
    {
     "name": "stdout",
     "output_type": "stream",
     "text": [
      "True\n"
     ]
    }
   ],
   "source": [
    "l = [1,4,6,8,9,5,3,10,9,3,5,8,7,3,5]\n",
    "for i in l:\n",
    "    if(i==10):\n",
    "        print(True)\n"
   ]
  }
 ],
 "metadata": {
  "kernelspec": {
   "display_name": "Python 3 (ipykernel)",
   "language": "python",
   "name": "python3"
  },
  "language_info": {
   "codemirror_mode": {
    "name": "ipython",
    "version": 3
   },
   "file_extension": ".py",
   "mimetype": "text/x-python",
   "name": "python",
   "nbconvert_exporter": "python",
   "pygments_lexer": "ipython3",
   "version": "3.9.13"
  }
 },
 "nbformat": 4,
 "nbformat_minor": 5
}
